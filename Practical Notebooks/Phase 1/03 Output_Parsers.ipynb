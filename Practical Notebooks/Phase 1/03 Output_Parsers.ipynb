{
  "nbformat": 4,
  "nbformat_minor": 0,
  "metadata": {
    "colab": {
      "provenance": [],
      "authorship_tag": "ABX9TyOlkoZjLzGEMqevfxrmqW82",
      "include_colab_link": true
    },
    "kernelspec": {
      "name": "python3",
      "display_name": "Python 3"
    },
    "language_info": {
      "name": "python"
    }
  },
  "cells": [
    {
      "cell_type": "markdown",
      "metadata": {
        "id": "view-in-github",
        "colab_type": "text"
      },
      "source": [
        "<a href=\"https://colab.research.google.com/github/nsk-ai/RAG-Bootcamp-2025/blob/main/Output_Parsers.ipynb\" target=\"_parent\"><img src=\"https://colab.research.google.com/assets/colab-badge.svg\" alt=\"Open In Colab\"/></a>"
      ]
    },
    {
      "cell_type": "code",
      "execution_count": null,
      "metadata": {
        "colab": {
          "base_uri": "https://localhost:8080/"
        },
        "collapsed": true,
        "id": "_nd4l72bU8ud",
        "outputId": "5d6e7184-b727-4639-eca9-1d81a4b94a68"
      },
      "outputs": [
        {
          "output_type": "stream",
          "name": "stdout",
          "text": [
            "Requirement already satisfied: langchain in /usr/local/lib/python3.11/dist-packages (0.3.27)\n",
            "Requirement already satisfied: langchain-core<1.0.0,>=0.3.72 in /usr/local/lib/python3.11/dist-packages (from langchain) (0.3.72)\n",
            "Requirement already satisfied: langchain-text-splitters<1.0.0,>=0.3.9 in /usr/local/lib/python3.11/dist-packages (from langchain) (0.3.9)\n",
            "Requirement already satisfied: langsmith>=0.1.17 in /usr/local/lib/python3.11/dist-packages (from langchain) (0.4.8)\n",
            "Requirement already satisfied: pydantic<3.0.0,>=2.7.4 in /usr/local/lib/python3.11/dist-packages (from langchain) (2.11.7)\n",
            "Requirement already satisfied: SQLAlchemy<3,>=1.4 in /usr/local/lib/python3.11/dist-packages (from langchain) (2.0.41)\n",
            "Requirement already satisfied: requests<3,>=2 in /usr/local/lib/python3.11/dist-packages (from langchain) (2.32.3)\n",
            "Requirement already satisfied: PyYAML>=5.3 in /usr/local/lib/python3.11/dist-packages (from langchain) (6.0.2)\n",
            "Requirement already satisfied: tenacity!=8.4.0,<10.0.0,>=8.1.0 in /usr/local/lib/python3.11/dist-packages (from langchain-core<1.0.0,>=0.3.72->langchain) (8.5.0)\n",
            "Requirement already satisfied: jsonpatch<2.0,>=1.33 in /usr/local/lib/python3.11/dist-packages (from langchain-core<1.0.0,>=0.3.72->langchain) (1.33)\n",
            "Requirement already satisfied: typing-extensions>=4.7 in /usr/local/lib/python3.11/dist-packages (from langchain-core<1.0.0,>=0.3.72->langchain) (4.14.1)\n",
            "Requirement already satisfied: packaging>=23.2 in /usr/local/lib/python3.11/dist-packages (from langchain-core<1.0.0,>=0.3.72->langchain) (25.0)\n",
            "Requirement already satisfied: httpx<1,>=0.23.0 in /usr/local/lib/python3.11/dist-packages (from langsmith>=0.1.17->langchain) (0.28.1)\n",
            "Requirement already satisfied: orjson<4.0.0,>=3.9.14 in /usr/local/lib/python3.11/dist-packages (from langsmith>=0.1.17->langchain) (3.11.1)\n",
            "Requirement already satisfied: requests-toolbelt<2.0.0,>=1.0.0 in /usr/local/lib/python3.11/dist-packages (from langsmith>=0.1.17->langchain) (1.0.0)\n",
            "Requirement already satisfied: zstandard<0.24.0,>=0.23.0 in /usr/local/lib/python3.11/dist-packages (from langsmith>=0.1.17->langchain) (0.23.0)\n",
            "Requirement already satisfied: annotated-types>=0.6.0 in /usr/local/lib/python3.11/dist-packages (from pydantic<3.0.0,>=2.7.4->langchain) (0.7.0)\n",
            "Requirement already satisfied: pydantic-core==2.33.2 in /usr/local/lib/python3.11/dist-packages (from pydantic<3.0.0,>=2.7.4->langchain) (2.33.2)\n",
            "Requirement already satisfied: typing-inspection>=0.4.0 in /usr/local/lib/python3.11/dist-packages (from pydantic<3.0.0,>=2.7.4->langchain) (0.4.1)\n",
            "Requirement already satisfied: charset-normalizer<4,>=2 in /usr/local/lib/python3.11/dist-packages (from requests<3,>=2->langchain) (3.4.2)\n",
            "Requirement already satisfied: idna<4,>=2.5 in /usr/local/lib/python3.11/dist-packages (from requests<3,>=2->langchain) (3.10)\n",
            "Requirement already satisfied: urllib3<3,>=1.21.1 in /usr/local/lib/python3.11/dist-packages (from requests<3,>=2->langchain) (2.5.0)\n",
            "Requirement already satisfied: certifi>=2017.4.17 in /usr/local/lib/python3.11/dist-packages (from requests<3,>=2->langchain) (2025.7.14)\n",
            "Requirement already satisfied: greenlet>=1 in /usr/local/lib/python3.11/dist-packages (from SQLAlchemy<3,>=1.4->langchain) (3.2.3)\n",
            "Requirement already satisfied: anyio in /usr/local/lib/python3.11/dist-packages (from httpx<1,>=0.23.0->langsmith>=0.1.17->langchain) (4.9.0)\n",
            "Requirement already satisfied: httpcore==1.* in /usr/local/lib/python3.11/dist-packages (from httpx<1,>=0.23.0->langsmith>=0.1.17->langchain) (1.0.9)\n",
            "Requirement already satisfied: h11>=0.16 in /usr/local/lib/python3.11/dist-packages (from httpcore==1.*->httpx<1,>=0.23.0->langsmith>=0.1.17->langchain) (0.16.0)\n",
            "Requirement already satisfied: jsonpointer>=1.9 in /usr/local/lib/python3.11/dist-packages (from jsonpatch<2.0,>=1.33->langchain-core<1.0.0,>=0.3.72->langchain) (3.0.0)\n",
            "Requirement already satisfied: sniffio>=1.1 in /usr/local/lib/python3.11/dist-packages (from anyio->httpx<1,>=0.23.0->langsmith>=0.1.17->langchain) (1.3.1)\n"
          ]
        }
      ],
      "source": [
        "pip install langchain"
      ]
    },
    {
      "cell_type": "code",
      "source": [
        "pip install -qU langchain-groq"
      ],
      "metadata": {
        "colab": {
          "base_uri": "https://localhost:8080/"
        },
        "id": "zTs_8JUQYso8",
        "outputId": "27ebf69a-438d-4e07-8928-e5085e4d116d",
        "collapsed": true
      },
      "execution_count": null,
      "outputs": [
        {
          "output_type": "stream",
          "name": "stdout",
          "text": [
            "\u001b[?25l   \u001b[90m━━━━━━━━━━━━━━━━━━━━━━━━━━━━━━━━━━━━━━━━\u001b[0m \u001b[32m0.0/131.1 kB\u001b[0m \u001b[31m?\u001b[0m eta \u001b[36m-:--:--\u001b[0m\r\u001b[2K   \u001b[91m━━━━━━━━━\u001b[0m\u001b[90m╺\u001b[0m\u001b[90m━━━━━━━━━━━━━━━━━━━━━━━━━━━━━━\u001b[0m \u001b[32m30.7/131.1 kB\u001b[0m \u001b[31m2.0 MB/s\u001b[0m eta \u001b[36m0:00:01\u001b[0m\r\u001b[2K   \u001b[91m━━━━━━━━━━━━━━━━━━━━━━━━━\u001b[0m\u001b[90m╺\u001b[0m\u001b[90m━━━━━━━━━━━━━━\u001b[0m \u001b[32m81.9/131.1 kB\u001b[0m \u001b[31m1.1 MB/s\u001b[0m eta \u001b[36m0:00:01\u001b[0m\r\u001b[2K   \u001b[91m━━━━━━━━━━━━━━━━━━━━━━━━━━━━━━━━━━━━━\u001b[0m\u001b[91m╸\u001b[0m\u001b[90m━━\u001b[0m \u001b[32m122.9/131.1 kB\u001b[0m \u001b[31m1.1 MB/s\u001b[0m eta \u001b[36m0:00:01\u001b[0m\r\u001b[2K   \u001b[90m━━━━━━━━━━━━━━━━━━━━━━━━━━━━━━━━━━━━━━━\u001b[0m \u001b[32m131.1/131.1 kB\u001b[0m \u001b[31m977.9 kB/s\u001b[0m eta \u001b[36m0:00:00\u001b[0m\n",
            "\u001b[?25h"
          ]
        }
      ]
    },
    {
      "cell_type": "code",
      "source": [
        "from google.colab import userdata\n",
        "import os\n",
        "\n",
        "# Access the secret using userdata.get()\n",
        "my_variable = userdata.get('GROQ_API_KEY')\n",
        "\n",
        "# You can also set it as an environment variable for use with os.getenv()\n",
        "os.environ['GROQ_API_KEY'] = my_variable"
      ],
      "metadata": {
        "id": "Vb5869F-b-ty"
      },
      "execution_count": null,
      "outputs": []
    },
    {
      "cell_type": "markdown",
      "source": [
        "### **1. StrOutputParser**\n",
        "\n",
        "  * **Definition:** The most basic parser that simply takes the model's output and returns it as a standard Python string.\n",
        "  * **Use Case:** Ideal for any simple task where you just need the raw text response from the model, such as straightforward Q\\&A, summarization, or simple content generation.\n"
      ],
      "metadata": {
        "id": "LsyFvE3DMw0C"
      }
    },
    {
      "cell_type": "code",
      "source": [
        "from langchain_core.prompts import ChatPromptTemplate\n",
        "from langchain_core.output_parsers import StrOutputParser\n",
        "from langchain_groq import ChatGroq\n",
        "\n",
        "# The chain will produce a standard string output\n",
        "chain = (\n",
        "    ChatPromptTemplate.from_template(\"Tell me a one-sentence summary of the book '{book_title}'.\")\n",
        "    | ChatGroq(model=\"llama3-8b-8192\") # Replace ChatOpenAI with ChatGroq\n",
        "    | StrOutputParser()\n",
        ")\n",
        "\n",
        "# Execute the chain\n",
        "result = chain.invoke({\"book_title\": \"1984\"})\n",
        "\n",
        "print(result)\n",
        "print(f\"\\nType of output: {type(result)}\")"
      ],
      "metadata": {
        "id": "hMgYXkDWbxHk",
        "colab": {
          "base_uri": "https://localhost:8080/"
        },
        "outputId": "7b2d817c-6cd8-4d70-9d03-17c4e78039d3"
      },
      "execution_count": null,
      "outputs": [
        {
          "output_type": "stream",
          "name": "stdout",
          "text": [
            "In the dystopian novel \"1984\" by George Orwell, Winston Smith, a low-ranking member of the ruling Party, begins to question the official ideology of the totalitarian government and rebels against it, leading him to confront the harsh realities of a surveillance state that seeks to control every aspect of its citizens' lives.\n",
            "\n",
            "Type of output: <class 'str'>\n"
          ]
        }
      ]
    },
    {
      "cell_type": "markdown",
      "source": [
        "### **2. JsonOutputParser**\n",
        "\n",
        "  * **Definition:** Parses a JSON string from the model's output into a Python dictionary.\n",
        "  * **Use Case:** When you need to extract multiple, distinct pieces of information from a prompt and want them returned in a structured key-value format."
      ],
      "metadata": {
        "id": "Kc6odPn7D4nq"
      }
    },
    {
      "cell_type": "code",
      "source": [
        "from langchain_core.prompts import ChatPromptTemplate\n",
        "from langchain_core.output_parsers import JsonOutputParser\n",
        "from langchain_groq import ChatGroq\n",
        "\n",
        "# This parser expects the model to output a JSON string\n",
        "parser = JsonOutputParser()\n",
        "\n",
        "# We include instructions in the prompt to guide the model\n",
        "prompt = ChatPromptTemplate.from_template(\n",
        "    \"Extract the main character and its Actor's name of this movie title: {movie_title}.\\n\\n{format_instructions}\\n\\nONLY return the JSON object and nothing else.\"\n",
        ")\n",
        "\n",
        "chain = (\n",
        "    prompt\n",
        "    | ChatGroq(model=\"llama3-8b-8192\")\n",
        "    | parser\n",
        ")\n",
        "\n",
        "# Execute the chain\n",
        "result = chain.invoke({\n",
        "    \"movie_title\": \"Hancock 2008\",\n",
        "    \"format_instructions\": parser.get_format_instructions()\n",
        "})\n",
        "\n",
        "print(result)\n",
        "print(f\"\\nType of output: {type(result)}\")"
      ],
      "metadata": {
        "colab": {
          "base_uri": "https://localhost:8080/"
        },
        "id": "Fb3ExMRsD-rw",
        "outputId": "0a6ed29b-ad47-464d-c615-272ca9b8b67a"
      },
      "execution_count": null,
      "outputs": [
        {
          "output_type": "stream",
          "name": "stdout",
          "text": [
            "{'mainCharacter': 'John Hancock', 'actor': 'Will Smith'}\n",
            "\n",
            "Type of output: <class 'dict'>\n"
          ]
        }
      ]
    },
    {
      "cell_type": "markdown",
      "source": [
        "### **3. PydanticOutputParser**\n",
        "\n",
        "  * **Definition:** Parses the model's output into a Pydantic model, giving you a validated, typed Python object.\n",
        "  * **Use Case:** The most robust method for structured output; perfect for complex data extraction where you need to guarantee the output's schema, including data types (strings, integers, lists, etc.), making it safe to use in your application."
      ],
      "metadata": {
        "id": "_0QdAO3MEI3T"
      }
    },
    {
      "cell_type": "code",
      "source": [
        "from typing import List\n",
        "from pydantic import BaseModel, Field\n",
        "from langchain_core.prompts import ChatPromptTemplate\n",
        "from langchain_core.output_parsers import PydanticOutputParser\n",
        "from langchain_groq import ChatGroq\n",
        "\n",
        "# 1. Define the desired data structure using Pydantic\n",
        "class Person(BaseModel):\n",
        "    name: str = Field(description=\"The full name of the person.\")\n",
        "    skills: List[str] = Field(description=\"A list of the person's skills.\")\n",
        "    years_of_experience: int = Field(description=\"The person's total years of professional experience.\")\n",
        "\n",
        "# 2. Set up the parser\n",
        "parser = PydanticOutputParser(pydantic_object=Person)\n",
        "\n",
        "# 3. Print the formatting instructions\n",
        "print(parser.get_format_instructions())"
      ],
      "metadata": {
        "colab": {
          "base_uri": "https://localhost:8080/"
        },
        "id": "XjBBJjQ7EJsf",
        "outputId": "7b374c93-9a41-44c4-8b24-59cb9014c8c0"
      },
      "execution_count": null,
      "outputs": [
        {
          "output_type": "stream",
          "name": "stdout",
          "text": [
            "The output should be formatted as a JSON instance that conforms to the JSON schema below.\n",
            "\n",
            "As an example, for the schema {\"properties\": {\"foo\": {\"title\": \"Foo\", \"description\": \"a list of strings\", \"type\": \"array\", \"items\": {\"type\": \"string\"}}}, \"required\": [\"foo\"]}\n",
            "the object {\"foo\": [\"bar\", \"baz\"]} is a well-formatted instance of the schema. The object {\"properties\": {\"foo\": [\"bar\", \"baz\"]}} is not well-formatted.\n",
            "\n",
            "Here is the output schema:\n",
            "```\n",
            "{\"properties\": {\"name\": {\"description\": \"The full name of the person.\", \"title\": \"Name\", \"type\": \"string\"}, \"skills\": {\"description\": \"A list of the person's skills.\", \"items\": {\"type\": \"string\"}, \"title\": \"Skills\", \"type\": \"array\"}, \"years_of_experience\": {\"description\": \"The person's total years of professional experience.\", \"title\": \"Years Of Experience\", \"type\": \"integer\"}}, \"required\": [\"name\", \"skills\", \"years_of_experience\"]}\n",
            "```\n"
          ]
        }
      ]
    },
    {
      "cell_type": "code",
      "source": [
        "# 4. Create the prompt and chain\n",
        "prompt = ChatPromptTemplate.from_template(\n",
        "    \"Analyze the following job description summary and extract the candidate's information.\\n\\n{format_instructions}\\n\\nSummary: {summary}\\n\"\n",
        ")\n",
        "\n",
        "chain = (\n",
        "    prompt\n",
        "    | ChatGroq(model=\"llama3-8b-8192\") # Replace ChatOpenAI with ChatGroq\n",
        "    | parser\n",
        ")"
      ],
      "metadata": {
        "id": "uaHvq_yTJELJ"
      },
      "execution_count": null,
      "outputs": []
    },
    {
      "cell_type": "code",
      "source": [
        "# 5. Execute the chain\n",
        "result = chain.invoke({\n",
        "    \"summary\": \"John Doe is a software engineer with 8 years of experience in Python, React, and SQL.\",\n",
        "    \"format_instructions\": parser.get_format_instructions()\n",
        "})\n",
        "\n",
        "print(result)\n",
        "print(f\"\\nType of output: {type(result)}\")"
      ],
      "metadata": {
        "colab": {
          "base_uri": "https://localhost:8080/"
        },
        "id": "Jshefe2yPwAQ",
        "outputId": "55c03972-a1bb-4ef4-d283-cb4bc6fcf7a5"
      },
      "execution_count": null,
      "outputs": [
        {
          "output_type": "stream",
          "name": "stdout",
          "text": [
            "name='John Doe' skills=['Python', 'React', 'SQL'] years_of_experience=8\n",
            "\n",
            "Type of output: <class '__main__.Person'>\n"
          ]
        }
      ]
    },
    {
      "cell_type": "code",
      "source": [
        "result.name"
      ],
      "metadata": {
        "colab": {
          "base_uri": "https://localhost:8080/",
          "height": 36
        },
        "id": "IwYYZtH4Pwod",
        "outputId": "f63627bf-42bd-4061-f4fb-9ad793b36f2b"
      },
      "execution_count": null,
      "outputs": [
        {
          "output_type": "execute_result",
          "data": {
            "text/plain": [
              "'John Doe'"
            ],
            "application/vnd.google.colaboratory.intrinsic+json": {
              "type": "string"
            }
          },
          "metadata": {},
          "execution_count": 13
        }
      ]
    },
    {
      "cell_type": "code",
      "source": [],
      "metadata": {
        "id": "YHa7wu-fP7Yp"
      },
      "execution_count": null,
      "outputs": []
    }
  ]
}