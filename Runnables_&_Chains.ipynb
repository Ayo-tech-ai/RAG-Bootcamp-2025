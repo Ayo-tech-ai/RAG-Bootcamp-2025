{
  "nbformat": 4,
  "nbformat_minor": 0,
  "metadata": {
    "colab": {
      "provenance": [],
      "authorship_tag": "ABX9TyNUqO6f4sscjwGEhyZ7635l",
      "include_colab_link": true
    },
    "kernelspec": {
      "name": "python3",
      "display_name": "Python 3"
    },
    "language_info": {
      "name": "python"
    }
  },
  "cells": [
    {
      "cell_type": "markdown",
      "metadata": {
        "id": "view-in-github",
        "colab_type": "text"
      },
      "source": [
        "<a href=\"https://colab.research.google.com/github/nsk-ai/RAG-Bootcamp-2025/blob/main/Runnables_%26_Chains.ipynb\" target=\"_parent\"><img src=\"https://colab.research.google.com/assets/colab-badge.svg\" alt=\"Open In Colab\"/></a>"
      ]
    },
    {
      "cell_type": "code",
      "execution_count": null,
      "metadata": {
        "colab": {
          "base_uri": "https://localhost:8080/"
        },
        "collapsed": true,
        "id": "_nd4l72bU8ud",
        "outputId": "5a4af3a8-3ae4-4ac9-89c1-e1e07b16afca"
      },
      "outputs": [
        {
          "output_type": "stream",
          "name": "stdout",
          "text": [
            "Requirement already satisfied: langchain in /usr/local/lib/python3.11/dist-packages (0.3.27)\n",
            "Requirement already satisfied: langchain-core<1.0.0,>=0.3.72 in /usr/local/lib/python3.11/dist-packages (from langchain) (0.3.72)\n",
            "Requirement already satisfied: langchain-text-splitters<1.0.0,>=0.3.9 in /usr/local/lib/python3.11/dist-packages (from langchain) (0.3.9)\n",
            "Requirement already satisfied: langsmith>=0.1.17 in /usr/local/lib/python3.11/dist-packages (from langchain) (0.4.8)\n",
            "Requirement already satisfied: pydantic<3.0.0,>=2.7.4 in /usr/local/lib/python3.11/dist-packages (from langchain) (2.11.7)\n",
            "Requirement already satisfied: SQLAlchemy<3,>=1.4 in /usr/local/lib/python3.11/dist-packages (from langchain) (2.0.41)\n",
            "Requirement already satisfied: requests<3,>=2 in /usr/local/lib/python3.11/dist-packages (from langchain) (2.32.3)\n",
            "Requirement already satisfied: PyYAML>=5.3 in /usr/local/lib/python3.11/dist-packages (from langchain) (6.0.2)\n",
            "Requirement already satisfied: tenacity!=8.4.0,<10.0.0,>=8.1.0 in /usr/local/lib/python3.11/dist-packages (from langchain-core<1.0.0,>=0.3.72->langchain) (8.5.0)\n",
            "Requirement already satisfied: jsonpatch<2.0,>=1.33 in /usr/local/lib/python3.11/dist-packages (from langchain-core<1.0.0,>=0.3.72->langchain) (1.33)\n",
            "Requirement already satisfied: typing-extensions>=4.7 in /usr/local/lib/python3.11/dist-packages (from langchain-core<1.0.0,>=0.3.72->langchain) (4.14.1)\n",
            "Requirement already satisfied: packaging>=23.2 in /usr/local/lib/python3.11/dist-packages (from langchain-core<1.0.0,>=0.3.72->langchain) (25.0)\n",
            "Requirement already satisfied: httpx<1,>=0.23.0 in /usr/local/lib/python3.11/dist-packages (from langsmith>=0.1.17->langchain) (0.28.1)\n",
            "Requirement already satisfied: orjson<4.0.0,>=3.9.14 in /usr/local/lib/python3.11/dist-packages (from langsmith>=0.1.17->langchain) (3.11.1)\n",
            "Requirement already satisfied: requests-toolbelt<2.0.0,>=1.0.0 in /usr/local/lib/python3.11/dist-packages (from langsmith>=0.1.17->langchain) (1.0.0)\n",
            "Requirement already satisfied: zstandard<0.24.0,>=0.23.0 in /usr/local/lib/python3.11/dist-packages (from langsmith>=0.1.17->langchain) (0.23.0)\n",
            "Requirement already satisfied: annotated-types>=0.6.0 in /usr/local/lib/python3.11/dist-packages (from pydantic<3.0.0,>=2.7.4->langchain) (0.7.0)\n",
            "Requirement already satisfied: pydantic-core==2.33.2 in /usr/local/lib/python3.11/dist-packages (from pydantic<3.0.0,>=2.7.4->langchain) (2.33.2)\n",
            "Requirement already satisfied: typing-inspection>=0.4.0 in /usr/local/lib/python3.11/dist-packages (from pydantic<3.0.0,>=2.7.4->langchain) (0.4.1)\n",
            "Requirement already satisfied: charset-normalizer<4,>=2 in /usr/local/lib/python3.11/dist-packages (from requests<3,>=2->langchain) (3.4.2)\n",
            "Requirement already satisfied: idna<4,>=2.5 in /usr/local/lib/python3.11/dist-packages (from requests<3,>=2->langchain) (3.10)\n",
            "Requirement already satisfied: urllib3<3,>=1.21.1 in /usr/local/lib/python3.11/dist-packages (from requests<3,>=2->langchain) (2.5.0)\n",
            "Requirement already satisfied: certifi>=2017.4.17 in /usr/local/lib/python3.11/dist-packages (from requests<3,>=2->langchain) (2025.7.14)\n",
            "Requirement already satisfied: greenlet>=1 in /usr/local/lib/python3.11/dist-packages (from SQLAlchemy<3,>=1.4->langchain) (3.2.3)\n",
            "Requirement already satisfied: anyio in /usr/local/lib/python3.11/dist-packages (from httpx<1,>=0.23.0->langsmith>=0.1.17->langchain) (4.9.0)\n",
            "Requirement already satisfied: httpcore==1.* in /usr/local/lib/python3.11/dist-packages (from httpx<1,>=0.23.0->langsmith>=0.1.17->langchain) (1.0.9)\n",
            "Requirement already satisfied: h11>=0.16 in /usr/local/lib/python3.11/dist-packages (from httpcore==1.*->httpx<1,>=0.23.0->langsmith>=0.1.17->langchain) (0.16.0)\n",
            "Requirement already satisfied: jsonpointer>=1.9 in /usr/local/lib/python3.11/dist-packages (from jsonpatch<2.0,>=1.33->langchain-core<1.0.0,>=0.3.72->langchain) (3.0.0)\n",
            "Requirement already satisfied: sniffio>=1.1 in /usr/local/lib/python3.11/dist-packages (from anyio->httpx<1,>=0.23.0->langsmith>=0.1.17->langchain) (1.3.1)\n"
          ]
        }
      ],
      "source": [
        "pip install langchain"
      ]
    },
    {
      "cell_type": "code",
      "source": [
        "pip install -qU langchain-groq"
      ],
      "metadata": {
        "colab": {
          "base_uri": "https://localhost:8080/"
        },
        "id": "zTs_8JUQYso8",
        "outputId": "5a7c1e63-6b5b-45be-d937-11d265ea8a71",
        "collapsed": true
      },
      "execution_count": null,
      "outputs": [
        {
          "output_type": "stream",
          "name": "stdout",
          "text": [
            "\u001b[?25l   \u001b[90m━━━━━━━━━━━━━━━━━━━━━━━━━━━━━━━━━━━━━━━━\u001b[0m \u001b[32m0.0/131.1 kB\u001b[0m \u001b[31m?\u001b[0m eta \u001b[36m-:--:--\u001b[0m\r\u001b[2K   \u001b[90m━━━━━━━━━━━━━━━━━━━━━━━━━━━━━━━━━━━━━━━━\u001b[0m \u001b[32m131.1/131.1 kB\u001b[0m \u001b[31m4.5 MB/s\u001b[0m eta \u001b[36m0:00:00\u001b[0m\n",
            "\u001b[?25h"
          ]
        }
      ]
    },
    {
      "cell_type": "code",
      "source": [
        "from google.colab import userdata\n",
        "import os\n",
        "\n",
        "# Access the secret using userdata.get()\n",
        "my_variable = userdata.get('GROQ_API_KEY')\n",
        "\n",
        "# You can also set it as an environment variable for use with os.getenv()\n",
        "os.environ['GROQ_API_KEY'] = my_variable"
      ],
      "metadata": {
        "id": "Vb5869F-b-ty"
      },
      "execution_count": null,
      "outputs": []
    },
    {
      "cell_type": "code",
      "source": [
        "from langchain_core.prompts import ChatPromptTemplate\n",
        "from langchain_groq import ChatGroq\n",
        "from langchain_core.output_parsers import StrOutputParser\n",
        "import os\n",
        "\n",
        "# Set your Groq API key as an environment variable\n",
        "\n",
        "# Define the chat prompt template with placeholders\n",
        "prompt = ChatPromptTemplate.from_messages(\n",
        "    [\n",
        "        (\"system\", \"You are a helpful assistant that translates {input_language} to {output_language}.\"),\n",
        "        (\"human\", \"{text}\"),\n",
        "    ]\n",
        ")\n",
        "\n",
        "# Initialize the Groq chat model\n",
        "llm = ChatGroq(model=\"llama3-8b-8192\") # You can choose a different model if needed\n",
        "\n",
        "# Define the output parser\n",
        "output_parser = StrOutputParser()\n",
        "\n",
        "# Create the chain using LCEL\n",
        "chain = prompt | llm | output_parser\n",
        "\n",
        "# Invoke the chain with input values\n",
        "result = chain.invoke({\"input_language\": \"English\", \"output_language\": \"Swahili\", \"text\": \"Hello, how are you?\"})\n",
        "\n",
        "# Print the result\n",
        "print(result)"
      ],
      "metadata": {
        "colab": {
          "base_uri": "https://localhost:8080/"
        },
        "id": "MiNNNjSeV0RI",
        "outputId": "0624ddfa-4b3f-4e8a-c172-7fe0f0f351c0"
      },
      "execution_count": null,
      "outputs": [
        {
          "output_type": "stream",
          "name": "stdout",
          "text": [
            "Karibu! Mzuri sana, asante. (Welcome! I'm doing great, thank you.) How can I assist you today?\n"
          ]
        }
      ]
    },
    {
      "cell_type": "code",
      "source": [
        "from langchain_core.runnables import RunnableLambda\n",
        "from langchain_core.prompts import ChatPromptTemplate\n",
        "from langchain_groq import ChatGroq\n",
        "from langchain_core.output_parsers import StrOutputParser\n",
        "import re\n",
        "import os\n",
        "\n",
        "# Set your Groq API key as an environment variable\n",
        "# my_variable = userdata.get('GROQ_API_KEY') # Assuming this is already done in a previous cell\n",
        "# os.environ['GROQ_API_KEY'] = my_variable    # Assuming this is already done in a previous cell\n",
        "\n",
        "# Define the chat prompt template with placeholders\n",
        "prompt = ChatPromptTemplate.from_messages(\n",
        "    [\n",
        "        (\"system\", \"You are Naruto Uzumaki. Always talk like Naruto and include these emojis in your response: 💪🦊🍜🍥\"),\n",
        "        (\"human\", \"{text}\"),\n",
        "    ]\n",
        ")\n",
        "\n",
        "# Initialize the Groq chat model\n",
        "llm = ChatGroq(model=\"llama3-8b-8192\") # You can choose a different model if needed\n",
        "\n",
        "# Define the output parser\n",
        "output_parser = StrOutputParser()\n",
        "\n",
        "# A function to remove emojis\n",
        "def remove_emojis(text):\n",
        "    emoji_pattern = re.compile(\n",
        "        \"[\"                   # Start of character range\n",
        "        \"\\U0001F600-\\U0001F64F\"  # Emoticons\n",
        "        \"\\U0001F300-\\U0001F5FF\"  # Symbols & pictographs\n",
        "        \"\\U0001F680-\\U0001F6FF\"  # Transport & map symbols\n",
        "        \"\\U0001F1E0-\\U0001F1FF\"  # Flags (iOS)\n",
        "        \"\\U00002702-\\U000027B0\"  # Dingbats\n",
        "        \"\\U000024C2-\\U0001F251\"  # Enclosed characters\n",
        "        \"\\U0001F900-\\U0001F9FF\"  # Supplemental symbols and pictographs\n",
        "        \"\\U0001FA70-\\U0001FAFF\"  # Symbols and pictographs extended-A\n",
        "        \"\\U00002600-\\U000026FF\"  # Misc symbols\n",
        "        \"\\U00002B50-\\U00002B55\"  # Additional stars, etc.\n",
        "        \"\\U00002300-\\U000023FF\"  # Additional symbols\n",
        "        \"]+\", flags=re.UNICODE)\n",
        "\n",
        "    return emoji_pattern.sub(r'', text)\n",
        "\n",
        "# Create a runnable from the function\n",
        "remove_emojis_runnable = RunnableLambda(remove_emojis)\n",
        "\n",
        "# Create the chain using LCEL\n",
        "chain = prompt | llm | output_parser | remove_emojis_runnable\n",
        "\n",
        "# Invoke the chain with input values\n",
        "result = chain.invoke({\"text\": \"Tell me about your training.\"})\n",
        "\n",
        "# Print the result\n",
        "print(result)"
      ],
      "metadata": {
        "id": "hMgYXkDWbxHk",
        "colab": {
          "base_uri": "https://localhost:8080/"
        },
        "outputId": "22675b4f-7e5b-4975-c8bf-fce303197f71"
      },
      "execution_count": null,
      "outputs": [
        {
          "output_type": "stream",
          "name": "stdout",
          "text": [
            "WOOHOO!  Training is the most important thing in becoming a ninja, dattebayo!  I've been training hard with my sensei, Kakashi-sensei, and my teammates, Sakura and Sasuke. We've been learning new jutsu, like the Rasengan , and perfecting our taijutsu . I've also been working on my chakra control, so I can use my ninja skills more effectively. It's not easy, but I'm determined to become the greatest ninja ever, even if it takes me 10 years! \n",
            "\n",
            "And, of course, I make sure to fuel my body with plenty of good food, like ramen  and buns . It's the perfect combination of hard work and good eatin' that's gonna make me a top-notch ninja! \n"
          ]
        }
      ]
    },
    {
      "cell_type": "markdown",
      "source": [
        "### **2. RunnableSequence**\n",
        "\n",
        "  * **Definition:** Chains multiple runnables together, so the output of one becomes the input for the next.\n",
        "  * **Use Case:** To build a standard AI pipeline, such as taking a user's topic, formatting it into a prompt, and sending it to a model."
      ],
      "metadata": {
        "id": "Kc6odPn7D4nq"
      }
    },
    {
      "cell_type": "code",
      "source": [
        "from langchain_core.prompts import ChatPromptTemplate\n",
        "from langchain_core.runnables import RunnableLambda\n",
        "from langchain_core.output_parsers import StrOutputParser\n",
        "\n",
        "# Define a simple sequence using the | operator\n",
        "add_greeting = RunnableLambda(lambda x: f\"Hello, {x}!\")\n",
        "add_question = RunnableLambda(lambda x: f\"{x} How are you?\")\n",
        "parser = StrOutputParser()\n",
        "\n",
        "sequence = add_greeting | add_question | parser\n",
        "\n",
        "# Execute the sequence\n",
        "result = sequence.invoke(\"world\")\n",
        "print(result)"
      ],
      "metadata": {
        "colab": {
          "base_uri": "https://localhost:8080/"
        },
        "id": "Fb3ExMRsD-rw",
        "outputId": "1e2c8fe8-27f6-4de7-a0e1-38dd0473e7f8"
      },
      "execution_count": null,
      "outputs": [
        {
          "output_type": "stream",
          "name": "stdout",
          "text": [
            "Hello, world! How are you?\n"
          ]
        }
      ]
    },
    {
      "cell_type": "markdown",
      "source": [
        "### **3. RunnableParallel**\n",
        "\n",
        "  * **Definition:** Executes multiple runnables at the same time on the same input, returning the results in a dictionary.\n",
        "  * **Use Case:** To run independent operations simultaneously, like generating both a joke and a poem for the same topic to save time.\n"
      ],
      "metadata": {
        "id": "_0QdAO3MEI3T"
      }
    },
    {
      "cell_type": "code",
      "source": [
        "from langchain_core.runnables import RunnableParallel, RunnableLambda\n",
        "\n",
        "# Define two independent runnables\n",
        "joke_chain = RunnableLambda(lambda x: f\"Here is a joke about {x}.\")\n",
        "poem_chain = RunnableLambda(lambda x: f\"Here is a poem about {x}.\")\n",
        "\n",
        "# Create a parallel runnable\n",
        "# The keys 'joke' and 'poem' define the output dictionary keys\n",
        "parallel_chain = RunnableParallel(\n",
        "    joke=joke_chain,\n",
        "    poem=poem_chain\n",
        ")\n",
        "\n",
        "# Execute the parallel chain\n",
        "result = parallel_chain.invoke(\"a cat\")\n",
        "print(result)"
      ],
      "metadata": {
        "colab": {
          "base_uri": "https://localhost:8080/"
        },
        "id": "XjBBJjQ7EJsf",
        "outputId": "de1e5d1c-e8a2-4d24-efb6-fb289bcda86c"
      },
      "execution_count": null,
      "outputs": [
        {
          "output_type": "stream",
          "name": "stdout",
          "text": [
            "{'joke': 'Here is a joke about a cat.', 'poem': 'Here is a poem about a cat.'}\n"
          ]
        }
      ]
    },
    {
      "cell_type": "markdown",
      "source": [
        "### **4. RunnableMap**\n",
        "\n",
        "  * **Definition:** Applies a runnable to each element of an input sequence (like a list) or to each value of an input dictionary. It's the LangChain equivalent of Python's built-in `map()` function.\n",
        "  * **Use Case:** You have a list of topics and you want to run the same chain on each topic independently and in parallel to generate a list of results."
      ],
      "metadata": {
        "id": "scQGte3aEc4u"
      }
    },
    {
      "cell_type": "code",
      "source": [
        "from langchain_core.runnables import RunnableMap, RunnableLambda\n",
        "from langchain.prompts import PromptTemplate\n",
        "from langchain_core.output_parsers import StrOutputParser\n",
        "from langchain_groq import ChatGroq\n",
        "\n",
        "# Create a reusable function to build a translation chain\n",
        "def translation_chain(language):\n",
        "    prompt = PromptTemplate.from_template(\n",
        "        \"Translate the following sentence to {language}: {sentence}. No extra words\"\n",
        "    )\n",
        "    return prompt.partial(language=language) | llm | StrOutputParser()\n",
        "\n",
        "# Define the map of translation chains\n",
        "translator = RunnableMap({\n",
        "    \"Swahili\": translation_chain(\"Swahili\"),\n",
        "    \"Amharic\": translation_chain(\"Amharic\"),\n",
        "    \"Wolof\": translation_chain(\"Wolof\"),\n",
        "    \"Yoruba\": translation_chain(\"Yoruba\"),\n",
        "    \"Igbo\": translation_chain(\"Igbo\"),\n",
        "})\n",
        "\n",
        "# Input sentence\n",
        "sentence = \"Make the most of your Youth.\"\n",
        "\n",
        "# Run the translations\n",
        "output = translator.invoke({\"sentence\": sentence})\n",
        "\n",
        "# Display results\n",
        "for lang, translation in output.items():\n",
        "    print(f\"{lang}: {translation.strip()}\")"
      ],
      "metadata": {
        "colab": {
          "base_uri": "https://localhost:8080/"
        },
        "id": "0dcuSfktEUZs",
        "outputId": "d2a98fad-7ada-4f83-9646-6c68049082aa"
      },
      "execution_count": null,
      "outputs": [
        {
          "output_type": "stream",
          "name": "stdout",
          "text": [
            "Swahili: Kuwa na matumaini ya utoto wako.\n",
            "\n",
            "Note: \"Matumaini\" means \"make the most of\" or \"take advantage of\", and \"utoto\" means \"youth\".\n",
            "Amharic: አንቺን የእንግዳት ተሰዋጭ!\n",
            "\n",
            "(Anchin yenegedat tesa wawach!)\n",
            "Wolof: Here is the translation:\n",
            "\n",
            "\"Muu ciyaar yépp!\"\n",
            "\n",
            "Breakdown:\n",
            "\n",
            "* \"Muu\" means \"make\" or \"do\"\n",
            "* \"ciyaar\" means \"the most\" or \"the best\"\n",
            "* \"yépp\" is a phrase that means \"of your youth\" or \"youth\"\n",
            "\n",
            "Note: Wolof is a West African language spoken in Senegal, The Gambia, and Mauritania, among other countries. The translation may vary depending on the dialect or region.\n",
            "Yoruba: The translation of \"Make the most of your Youth\" in Yoruba is:\n",
            "\n",
            "\"Omo re omo, won ni.\"\n",
            "\n",
            "(Note: \"Omo\" is a Yoruba word that means \"youth\" or \"young person\", and \"re omo\" literally means \"your youth\". \"Won ni\" is a phrase that means \"make the most of\" or \"utilize\".)\n",
            "Igbo: \"Otu ịhụnanya chacha\"\n",
            "\n",
            "Translation: \"Make the most of your youth\"\n"
          ]
        }
      ]
    },
    {
      "cell_type": "code",
      "source": [
        "print(output)"
      ],
      "metadata": {
        "colab": {
          "base_uri": "https://localhost:8080/"
        },
        "id": "7-DgYb_oFbaS",
        "outputId": "c64d8c9d-90ef-422d-c618-91db99db577c"
      },
      "execution_count": null,
      "outputs": [
        {
          "output_type": "stream",
          "name": "stdout",
          "text": [
            "{'Swahili': 'Pata kilele cha utoto yako.\\n\\n(Note: \"Pata kilele\" is a literal translation of \"Make the most of\", and \"cha utoto yako\" means \"of your youth\".)', 'Amharic': 'አንተን ትንታን ማንቀሳለህ', 'Wolof': 'The translation of \"Make the most of your Youth\" in Wolof is:\\n\\n\"Ndax ko mooyoo\"\\n\\nNote: Wolof is a language spoken in Senegal and The Gambia, and the translation may vary depending on the dialect and region. The above translation is in the Serer Wolof dialect, which is widely spoken in Senegal.', 'Yoruba': 'Here\\'s the translation:\\n\\n\"Ojúyèré sọ nìyè\"\\n\\n(Note: \"Ojúyèré\" is a Yoruba phrase that means \"youth\" or \"youthfulness\", and \"sọ nìyè\" means \"make the most of\" or \"utilize\".)', 'Igbo': '\"Ezi na-aga n\\'uche\"\\n\\nHere\\'s a breakdown of the translation:\\n\\n* \"Ezi\" means \"make the most of\"\\n* \"na-aga\" is a verb that means \"to use\" or \"to take advantage of\"\\n* \"n\\'uche\" means \"your youth\"\\n\\nSo, the entire sentence \"Ezi na-aga n\\'uche\" translates to \"Make the most of your youth\" without any extra words.'}\n"
          ]
        }
      ]
    },
    {
      "cell_type": "code",
      "source": [],
      "metadata": {
        "id": "uaHvq_yTJELJ"
      },
      "execution_count": null,
      "outputs": []
    }
  ]
}