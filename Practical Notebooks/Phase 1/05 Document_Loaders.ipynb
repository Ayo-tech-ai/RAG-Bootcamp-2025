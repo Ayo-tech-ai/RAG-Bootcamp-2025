{
  "nbformat": 4,
  "nbformat_minor": 0,
  "metadata": {
    "colab": {
      "provenance": [],
      "authorship_tag": "ABX9TyMzrRDHk7tjgxNlxzpxk+1F",
      "include_colab_link": true
    },
    "kernelspec": {
      "name": "python3",
      "display_name": "Python 3"
    },
    "language_info": {
      "name": "python"
    }
  },
  "cells": [
    {
      "cell_type": "markdown",
      "metadata": {
        "id": "view-in-github",
        "colab_type": "text"
      },
      "source": [
        "<a href=\"https://colab.research.google.com/github/nsk-ai/RAG-Bootcamp-2025/blob/main/Document_Loaders.ipynb\" target=\"_parent\"><img src=\"https://colab.research.google.com/assets/colab-badge.svg\" alt=\"Open In Colab\"/></a>"
      ]
    },
    {
      "cell_type": "markdown",
      "source": [
        "https://python.langchain.com/docs/integrations/document_loaders/"
      ],
      "metadata": {
        "id": "WE4TyseLLWg2"
      }
    },
    {
      "cell_type": "markdown",
      "source": [
        "---\n",
        "## LangChain Document Loaders\n",
        "\n",
        "LangChain Document Loaders are components designed to ingest raw data from various sources and transform them into a **standardized format** called `Document` objects within the LangChain framework. These `Document` objects typically consist of **`page_content`** (the actual text data) and **`metadata`** (information related to the text, such as source, page number, or creation date).\n",
        "\n",
        "The primary purpose of document loaders is to facilitate the use of diverse data in LangChain applications, particularly for tasks like **Retrieval-Augmented Generation (RAG)**. LangChain offers a wide range of document loaders to handle various data sources, including:\n",
        "\n",
        "### File Loaders\n",
        "For loading data from local files, such as:\n",
        "* **Text files** (`TextLoader`)\n",
        "* **PDF files** (`PyPDFLoader`)\n",
        "* **CSV files** (`CSVLoader`)\n",
        "* **JSON files** (`JSONLoader`)\n",
        "* **Markdown files** (`UnstructuredMarkdownLoader`)\n",
        "* **Code files** (e.g., Python, Java, C++) using specific loaders or generic `UnstructuredFileLoader`.\n",
        "\n",
        "### Web Loaders\n",
        "For loading data from remote sources, such as:\n",
        "* **Web pages** (`WebBaseLoader`, `UnstructuredHTMLLoader`)\n",
        "* **YouTube videos** (`YoutubeLoader`)\n",
        "* **Notion databases** (`NotionDBLoader`)\n",
        "* **Google Drive files** (`GoogleDriveLoader`)\n",
        "* **Slack messages** (`SlackDataLoader`)\n",
        "\n",
        "### Database Loaders\n",
        "<small>For loading data from various databases.\n",
        "---\n",
        "All document loaders in LangChain implement the **`BaseLoader` interface** and typically provide methods like `.load()` to load data and `.lazy_load()` for more efficient loading of large datasets. This standardization allows for consistent data handling across different sources within LangChain applications.</small>\n",
        "---"
      ],
      "metadata": {
        "id": "7ewhNc58Ef3x"
      }
    },
    {
      "cell_type": "code",
      "execution_count": null,
      "metadata": {
        "colab": {
          "base_uri": "https://localhost:8080/"
        },
        "collapsed": true,
        "id": "_nd4l72bU8ud",
        "outputId": "3d43dd21-eced-441c-bbf3-718a2b2f56f7"
      },
      "outputs": [
        {
          "output_type": "stream",
          "name": "stdout",
          "text": [
            "Requirement already satisfied: langchain in /usr/local/lib/python3.11/dist-packages (0.3.27)\n",
            "Requirement already satisfied: langchain-core<1.0.0,>=0.3.72 in /usr/local/lib/python3.11/dist-packages (from langchain) (0.3.72)\n",
            "Requirement already satisfied: langchain-text-splitters<1.0.0,>=0.3.9 in /usr/local/lib/python3.11/dist-packages (from langchain) (0.3.9)\n",
            "Requirement already satisfied: langsmith>=0.1.17 in /usr/local/lib/python3.11/dist-packages (from langchain) (0.4.8)\n",
            "Requirement already satisfied: pydantic<3.0.0,>=2.7.4 in /usr/local/lib/python3.11/dist-packages (from langchain) (2.11.7)\n",
            "Requirement already satisfied: SQLAlchemy<3,>=1.4 in /usr/local/lib/python3.11/dist-packages (from langchain) (2.0.41)\n",
            "Requirement already satisfied: requests<3,>=2 in /usr/local/lib/python3.11/dist-packages (from langchain) (2.32.3)\n",
            "Requirement already satisfied: PyYAML>=5.3 in /usr/local/lib/python3.11/dist-packages (from langchain) (6.0.2)\n",
            "Requirement already satisfied: tenacity!=8.4.0,<10.0.0,>=8.1.0 in /usr/local/lib/python3.11/dist-packages (from langchain-core<1.0.0,>=0.3.72->langchain) (8.5.0)\n",
            "Requirement already satisfied: jsonpatch<2.0,>=1.33 in /usr/local/lib/python3.11/dist-packages (from langchain-core<1.0.0,>=0.3.72->langchain) (1.33)\n",
            "Requirement already satisfied: typing-extensions>=4.7 in /usr/local/lib/python3.11/dist-packages (from langchain-core<1.0.0,>=0.3.72->langchain) (4.14.1)\n",
            "Requirement already satisfied: packaging>=23.2 in /usr/local/lib/python3.11/dist-packages (from langchain-core<1.0.0,>=0.3.72->langchain) (25.0)\n",
            "Requirement already satisfied: httpx<1,>=0.23.0 in /usr/local/lib/python3.11/dist-packages (from langsmith>=0.1.17->langchain) (0.28.1)\n",
            "Requirement already satisfied: orjson<4.0.0,>=3.9.14 in /usr/local/lib/python3.11/dist-packages (from langsmith>=0.1.17->langchain) (3.11.1)\n",
            "Requirement already satisfied: requests-toolbelt<2.0.0,>=1.0.0 in /usr/local/lib/python3.11/dist-packages (from langsmith>=0.1.17->langchain) (1.0.0)\n",
            "Requirement already satisfied: zstandard<0.24.0,>=0.23.0 in /usr/local/lib/python3.11/dist-packages (from langsmith>=0.1.17->langchain) (0.23.0)\n",
            "Requirement already satisfied: annotated-types>=0.6.0 in /usr/local/lib/python3.11/dist-packages (from pydantic<3.0.0,>=2.7.4->langchain) (0.7.0)\n",
            "Requirement already satisfied: pydantic-core==2.33.2 in /usr/local/lib/python3.11/dist-packages (from pydantic<3.0.0,>=2.7.4->langchain) (2.33.2)\n",
            "Requirement already satisfied: typing-inspection>=0.4.0 in /usr/local/lib/python3.11/dist-packages (from pydantic<3.0.0,>=2.7.4->langchain) (0.4.1)\n",
            "Requirement already satisfied: charset-normalizer<4,>=2 in /usr/local/lib/python3.11/dist-packages (from requests<3,>=2->langchain) (3.4.2)\n",
            "Requirement already satisfied: idna<4,>=2.5 in /usr/local/lib/python3.11/dist-packages (from requests<3,>=2->langchain) (3.10)\n",
            "Requirement already satisfied: urllib3<3,>=1.21.1 in /usr/local/lib/python3.11/dist-packages (from requests<3,>=2->langchain) (2.5.0)\n",
            "Requirement already satisfied: certifi>=2017.4.17 in /usr/local/lib/python3.11/dist-packages (from requests<3,>=2->langchain) (2025.7.14)\n",
            "Requirement already satisfied: greenlet>=1 in /usr/local/lib/python3.11/dist-packages (from SQLAlchemy<3,>=1.4->langchain) (3.2.3)\n",
            "Requirement already satisfied: anyio in /usr/local/lib/python3.11/dist-packages (from httpx<1,>=0.23.0->langsmith>=0.1.17->langchain) (4.9.0)\n",
            "Requirement already satisfied: httpcore==1.* in /usr/local/lib/python3.11/dist-packages (from httpx<1,>=0.23.0->langsmith>=0.1.17->langchain) (1.0.9)\n",
            "Requirement already satisfied: h11>=0.16 in /usr/local/lib/python3.11/dist-packages (from httpcore==1.*->httpx<1,>=0.23.0->langsmith>=0.1.17->langchain) (0.16.0)\n",
            "Requirement already satisfied: jsonpointer>=1.9 in /usr/local/lib/python3.11/dist-packages (from jsonpatch<2.0,>=1.33->langchain-core<1.0.0,>=0.3.72->langchain) (3.0.0)\n",
            "Requirement already satisfied: sniffio>=1.1 in /usr/local/lib/python3.11/dist-packages (from anyio->httpx<1,>=0.23.0->langsmith>=0.1.17->langchain) (1.3.1)\n"
          ]
        }
      ],
      "source": [
        "pip install langchain"
      ]
    },
    {
      "cell_type": "code",
      "source": [
        "pip install -qU langchain-groq"
      ],
      "metadata": {
        "colab": {
          "base_uri": "https://localhost:8080/"
        },
        "id": "zTs_8JUQYso8",
        "outputId": "58111de7-8c3f-4ec2-86ab-148fc5b33794",
        "collapsed": true
      },
      "execution_count": null,
      "outputs": [
        {
          "output_type": "stream",
          "name": "stdout",
          "text": [
            "\u001b[?25l   \u001b[90m━━━━━━━━━━━━━━━━━━━━━━━━━━━━━━━━━━━━━━━━\u001b[0m \u001b[32m0.0/131.1 kB\u001b[0m \u001b[31m?\u001b[0m eta \u001b[36m-:--:--\u001b[0m\r\u001b[2K   \u001b[90m━━━━━━━━━━━━━━━━━━━━━━━━━━━━━━━━━━━━━━━━\u001b[0m \u001b[32m131.1/131.1 kB\u001b[0m \u001b[31m7.0 MB/s\u001b[0m eta \u001b[36m0:00:00\u001b[0m\n",
            "\u001b[?25h"
          ]
        }
      ]
    },
    {
      "cell_type": "code",
      "source": [
        "from google.colab import userdata\n",
        "import os\n",
        "\n",
        "# Access the secret using userdata.get()\n",
        "my_variable = userdata.get('GROQ_API_KEY')\n",
        "\n",
        "# You can also set it as an environment variable for use with os.getenv()\n",
        "os.environ['GROQ_API_KEY'] = my_variable"
      ],
      "metadata": {
        "id": "Vb5869F-b-ty"
      },
      "execution_count": null,
      "outputs": []
    },
    {
      "cell_type": "code",
      "source": [
        "%pip install -qU langchain_community pypdf"
      ],
      "metadata": {
        "colab": {
          "base_uri": "https://localhost:8080/"
        },
        "id": "MiNNNjSeV0RI",
        "outputId": "0504a38e-a0e1-49f8-8451-87c0259587e9"
      },
      "execution_count": null,
      "outputs": [
        {
          "output_type": "stream",
          "name": "stdout",
          "text": [
            "\u001b[2K   \u001b[90m━━━━━━━━━━━━━━━━━━━━━━━━━━━━━━━━━━━━━━━━\u001b[0m \u001b[32m2.5/2.5 MB\u001b[0m \u001b[31m28.7 MB/s\u001b[0m eta \u001b[36m0:00:00\u001b[0m\n",
            "\u001b[2K   \u001b[90m━━━━━━━━━━━━━━━━━━━━━━━━━━━━━━━━━━━━━━━━\u001b[0m \u001b[32m313.2/313.2 kB\u001b[0m \u001b[31m20.0 MB/s\u001b[0m eta \u001b[36m0:00:00\u001b[0m\n",
            "\u001b[2K   \u001b[90m━━━━━━━━━━━━━━━━━━━━━━━━━━━━━━━━━━━━━━━━\u001b[0m \u001b[32m45.2/45.2 kB\u001b[0m \u001b[31m2.8 MB/s\u001b[0m eta \u001b[36m0:00:00\u001b[0m\n",
            "\u001b[2K   \u001b[90m━━━━━━━━━━━━━━━━━━━━━━━━━━━━━━━━━━━━━━━━\u001b[0m \u001b[32m50.9/50.9 kB\u001b[0m \u001b[31m3.3 MB/s\u001b[0m eta \u001b[36m0:00:00\u001b[0m\n",
            "\u001b[?25h"
          ]
        }
      ]
    },
    {
      "cell_type": "code",
      "source": [
        "from langchain_community.document_loaders import PyPDFLoader\n",
        "\n",
        "file_path = \"./sample_data/langchain.pdf\"\n",
        "loader = PyPDFLoader(file_path)"
      ],
      "metadata": {
        "id": "hMgYXkDWbxHk"
      },
      "execution_count": null,
      "outputs": []
    },
    {
      "cell_type": "code",
      "source": [
        "docs = loader.load()\n",
        "docs[0]"
      ],
      "metadata": {
        "colab": {
          "base_uri": "https://localhost:8080/"
        },
        "id": "fQ-OU3-CITbf",
        "outputId": "ac6188c1-1cc4-42ec-e5ac-0da2f4d0f582"
      },
      "execution_count": null,
      "outputs": [
        {
          "output_type": "execute_result",
          "data": {
            "text/plain": [
              "Document(metadata={'producer': 'pdfTeX-1.40.26', 'creator': 'LaTeX with hyperref', 'creationdate': '2024-11-06T10:08:55+00:00', 'author': '', 'keywords': '', 'moddate': '2024-11-06T10:08:55+00:00', 'ptex.fullbanner': 'This is pdfTeX, Version 3.141592653-2.6-1.40.26 (TeX Live 2024) kpathsea version 6.4.0', 'subject': '', 'title': '', 'trapped': '/False', 'source': './sample_data/langchain.pdf', 'total_pages': 14, 'page': 0, 'page_label': '1'}, page_content='LangChain\\nVasilios Mavroudis\\nAlan Turing Institute\\nvmavroudis@turing.ac.uk\\nAbstract. LangChain is a rapidly emerging framework that offers a ver-\\nsatile and modular approach to developing applications powered by large\\nlanguage models (LLMs). By leveraging LangChain, developers can sim-\\nplify complex stages of the application lifecycle—such as development,\\nproductionization, and deployment—making it easier to build scalable,\\nstateful, and contextually aware applications. It provides tools for han-\\ndling chat models, integrating retrieval-augmented generation (RAG),\\nand offering secure API interactions. With LangChain, rapid deployment\\nof sophisticated LLM solutions across diverse domains becomes feasible.\\nHowever, despite its strengths, LangChain’s emphasis on modularity and\\nintegration introduces complexities and potential security concerns that\\nwarrant critical examination. This paper provides an in-depth analysis\\nof LangChain’s architecture and core components, including LangGraph,\\nLangServe,andLangSmith.Weexplorehowtheframeworkfacilitatesthe\\ndevelopment of LLM applications, discuss its applications across multi-\\nple domains, and critically evaluate its limitations in terms of usability,\\nsecurity, and scalability. By offering valuable insights into both the capa-\\nbilities and challenges of LangChain, this paper serves as a key resource\\nfor developers and researchers interested in leveraging LangChain for\\ninnovative and secure LLM-powered applications.\\nKeywords: LangChain · Large Language Models· LLM Applications·\\nModular Framework\\nThe emergence of large language models (LLMs) such as OpenAI’s o1 [13],\\nGPT-4o [12], Google’s Gemini [14], and Meta’s LLaMA [16] has revolutionized\\nthe field of natural language processing (NLP). These advanced models have un-\\nlocked unprecedented capabilities in understanding and generating human-like\\ntext, enabling applications that range from intelligent conversational agents to\\nsophisticated data analysis tools. However, harnessing the full potential of LLMs\\nin real-world applications presents significant challenges. Developers must nav-\\nigate complexities related to model integration, state management, scalability,\\ncontextual awareness, and security.\\nLangChain has rapidly gained prominence as a powerful framework designed\\nto address these challenges in developing LLM-powered applications [2]. By\\nproviding a modular and flexible architecture, LangChain simplifies the com-\\nplexities inherent in working with LLMs, enabling developers to build scalable,')"
            ]
          },
          "metadata": {},
          "execution_count": 7
        }
      ]
    },
    {
      "cell_type": "code",
      "source": [
        "import pprint\n",
        "\n",
        "pprint.pp(docs[0].metadata)"
      ],
      "metadata": {
        "colab": {
          "base_uri": "https://localhost:8080/"
        },
        "id": "AS6_lsBnIXqH",
        "outputId": "94eaf295-5a5b-4b01-f6e8-dacebd33bd6c"
      },
      "execution_count": null,
      "outputs": [
        {
          "output_type": "stream",
          "name": "stdout",
          "text": [
            "{'producer': 'pdfTeX-1.40.26',\n",
            " 'creator': 'LaTeX with hyperref',\n",
            " 'creationdate': '2024-11-06T10:08:55+00:00',\n",
            " 'author': '',\n",
            " 'keywords': '',\n",
            " 'moddate': '2024-11-06T10:08:55+00:00',\n",
            " 'ptex.fullbanner': 'This is pdfTeX, Version 3.141592653-2.6-1.40.26 (TeX Live '\n",
            "                    '2024) kpathsea version 6.4.0',\n",
            " 'subject': '',\n",
            " 'title': '',\n",
            " 'trapped': '/False',\n",
            " 'source': './sample_data/langchain.pdf',\n",
            " 'total_pages': 14,\n",
            " 'page': 0,\n",
            " 'page_label': '1'}\n"
          ]
        }
      ]
    },
    {
      "cell_type": "code",
      "source": [
        "docs[2].page_content[:100]"
      ],
      "metadata": {
        "colab": {
          "base_uri": "https://localhost:8080/",
          "height": 36
        },
        "id": "t5Bxcm2DIeHB",
        "outputId": "2d48a059-13ac-494a-af8f-27864e7d9fc6"
      },
      "execution_count": null,
      "outputs": [
        {
          "output_type": "execute_result",
          "data": {
            "text/plain": [
              "'LangChain 3\\nneeds, providing a flexible foundation for building scalable, secure, and multi-\\nfunctio'"
            ],
            "application/vnd.google.colaboratory.intrinsic+json": {
              "type": "string"
            }
          },
          "metadata": {},
          "execution_count": 11
        }
      ]
    },
    {
      "cell_type": "code",
      "source": [
        "print(len(docs))"
      ],
      "metadata": {
        "colab": {
          "base_uri": "https://localhost:8080/"
        },
        "id": "y-d7NVMuIjo7",
        "outputId": "70da8d51-3f17-4fbc-a860-856064ab3c42"
      },
      "execution_count": null,
      "outputs": [
        {
          "output_type": "stream",
          "name": "stdout",
          "text": [
            "14\n"
          ]
        }
      ]
    },
    {
      "cell_type": "markdown",
      "source": [
        "## Web Loaders"
      ],
      "metadata": {
        "id": "r3PBkZ6fJwqQ"
      }
    },
    {
      "cell_type": "code",
      "source": [
        "%pip install -qU langchain_community beautifulsoup4"
      ],
      "metadata": {
        "id": "tWIIWkhSJ0sn"
      },
      "execution_count": null,
      "outputs": []
    },
    {
      "cell_type": "code",
      "source": [
        "from langchain_community.document_loaders import WebBaseLoader\n",
        "\n",
        "loader = WebBaseLoader(\"https://www.nskai.org/\")"
      ],
      "metadata": {
        "colab": {
          "base_uri": "https://localhost:8080/"
        },
        "id": "O7K7P1VbJ5qg",
        "outputId": "2e996512-183c-4b3d-ea25-09c994724805"
      },
      "execution_count": null,
      "outputs": [
        {
          "output_type": "stream",
          "name": "stderr",
          "text": [
            "WARNING:langchain_community.utils.user_agent:USER_AGENT environment variable not set, consider setting it to identify your requests.\n"
          ]
        }
      ]
    },
    {
      "cell_type": "markdown",
      "source": [
        "To bypass SSL verification errors during fetching, you can set the \"verify\" option:\n",
        "\n"
      ],
      "metadata": {
        "id": "TsDqL49HKVD7"
      }
    },
    {
      "cell_type": "code",
      "source": [
        "loader.requests_kwargs = {'verify':False}"
      ],
      "metadata": {
        "id": "cgjsC_roKFde"
      },
      "execution_count": null,
      "outputs": []
    },
    {
      "cell_type": "code",
      "source": [
        "docs = loader.load()\n",
        "print(len(docs))"
      ],
      "metadata": {
        "colab": {
          "base_uri": "https://localhost:8080/"
        },
        "id": "Z0JOUMdyKQke",
        "outputId": "a8e093a0-7972-4d1d-ab6d-364902af3c0b"
      },
      "execution_count": null,
      "outputs": [
        {
          "output_type": "stream",
          "name": "stdout",
          "text": [
            "1\n"
          ]
        },
        {
          "output_type": "stream",
          "name": "stderr",
          "text": [
            "/usr/local/lib/python3.11/dist-packages/urllib3/connectionpool.py:1097: InsecureRequestWarning: Unverified HTTPS request is being made to host 'www.nskai.org'. Adding certificate verification is strongly advised. See: https://urllib3.readthedocs.io/en/latest/advanced-usage.html#tls-warnings\n",
            "  warnings.warn(\n"
          ]
        }
      ]
    },
    {
      "cell_type": "code",
      "source": [],
      "metadata": {
        "id": "JEPHZuqpKfSh"
      },
      "execution_count": null,
      "outputs": []
    }
  ]
}